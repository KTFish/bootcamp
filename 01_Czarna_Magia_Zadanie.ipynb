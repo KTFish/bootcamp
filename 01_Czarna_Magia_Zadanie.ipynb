{
  "cells": [
    {
      "cell_type": "markdown",
      "metadata": {
        "colab_type": "text",
        "id": "view-in-github"
      },
      "source": [
        "<a href=\"https://colab.research.google.com/github/KTFish/bootcamp/blob/main/01_Czarna_Magia_Zadanie.ipynb\" target=\"_parent\"><img src=\"https://colab.research.google.com/assets/colab-badge.svg\" alt=\"Open In Colab\"/></a>\n"
      ]
    },
    {
      "cell_type": "markdown",
      "metadata": {
        "id": "TvkKbDmS-E85"
      },
      "source": [
        "# Zadanie 01 - Zapoznanie z bibilioteką `PyTorch`.\n",
        "\n",
        "Dzięki temu notatnikowi będziesz mieć możliwość szybkiego zapoznania się z biblioteką PyTorch. Zachęcam do samodzielnego zgłębiania tematu, poniższy notatnik to raczej szybki przegląd tego co można zrobić na początku swojej przygody z Uczeniem Głębokim.\n",
        "\n",
        "Materiały w dużej mierze zostały oparte na kursie [ZTM autorstwa Daniela Boruke](https://www.learnpytorch.io/), który w o wiele głębszy sposób zgłebia zagadnienia sieci neuronowych niż ten szybki przegląd. Gorąco zachęcam do przerobienia jego kursu.\n"
      ]
    },
    {
      "cell_type": "code",
      "execution_count": null,
      "metadata": {
        "id": "2mO8nGF--QHj"
      },
      "outputs": [],
      "source": [
        "import torch\n",
        "\n",
        "# Aby usyskiwać takie same wyniki (dla celów edukacyjnych)\n",
        "torch.manual_seed(42)\n",
        "torch.cuda.manual_seed(42)"
      ]
    },
    {
      "cell_type": "markdown",
      "metadata": {
        "id": "I1pgit1P_z9t"
      },
      "source": [
        "## Przygotowanie zbioru danych\n",
        "\n",
        "Aby ułatwić sobie naukę na początu warto korzystać z gotowych zbiorów danych, tak aby móc się skupić na zrozumieniu samego kodu a nie przygotowywaniu samych danych (na co później z pewnością też znajdziemy jeszcze czas).\n"
      ]
    },
    {
      "cell_type": "code",
      "execution_count": null,
      "metadata": {
        "id": "S3Gzz0sDAFji"
      },
      "outputs": [],
      "source": [
        "from torchvision.datasets import (\n",
        "    MNIST,\n",
        ")  # Pozwoli na stworzenie zbioru MNIST zawierającego cyfry od 0 do 9\n",
        "import os\n",
        "from torchvision.transforms import ToTensor\n",
        "\n",
        "\n",
        "train_dir = \"./train\"\n",
        "\n",
        "# Upewniamy się, że nasz folder na dane treningowe istnieje, jeśli nie to takowy tworzymy\n",
        "if not os.path.exists(train_dir):\n",
        "    os.makedirs(train_dir, exist_ok=True)\n",
        "\n",
        "# Stworzenie zbioru treningowego\n",
        "train_dataset = MNIST(\n",
        "    root=train_dir,\n",
        "    train=True,  # Wybieramy dane treningowe (analogicznie dla testowych wstawiamy tutaj False)\n",
        "    download=True,\n",
        "    transform=ToTensor(),  # Nasze obrazki muszą być w postaci tensorów\n",
        "    target_transform=None,  # Z etykietami nic nie robimy, jeśli nie napiszesz tej linijki to też nic się nie stanie\n",
        ")"
      ]
    },
    {
      "cell_type": "markdown",
      "metadata": {
        "id": "F1_Z9HD9Aze6"
      },
      "source": [
        "### Stwórz zbiór testowy\n",
        "\n",
        "Zrobić możesz to dokładnie tak samo jak w komórce wyżej został stworzony `train_dataset`. Wystarczy odpowiednio zmienić niektóre parametry.\n"
      ]
    },
    {
      "cell_type": "code",
      "execution_count": null,
      "metadata": {
        "id": "DMpo165qAKRz"
      },
      "outputs": [],
      "source": [
        "# TODO: Na takiej samej zasadzie stwórz zbiór testowy."
      ]
    },
    {
      "cell_type": "markdown",
      "metadata": {
        "id": "fL4O9UzoAxG7"
      },
      "source": [
        "### Stwórz zbiór testowy - rozwiązanie\n"
      ]
    },
    {
      "cell_type": "code",
      "execution_count": null,
      "metadata": {
        "id": "_WIP8xDfBPOj"
      },
      "outputs": [],
      "source": [
        "test_dir = \"./test\"\n",
        "\n",
        "# Upewniamy się, że nasz folder na dane treningowe istnieje, jeśli nie to takowy tworzymy\n",
        "if not os.path.exists(test_dir):\n",
        "    os.makedirs(test_dir, exist_ok=True)\n",
        "\n",
        "# Stworzenie zbioru treningowego\n",
        "test_dataset = MNIST(\n",
        "    root=test_dir,\n",
        "    train=False,  # Wybieramy dane treningowe (analogicznie dla testowych wstawiamy tutaj False)\n",
        "    download=True,\n",
        "    transform=ToTensor(),  # Nasze obrazki muszą być w postaci tensorów\n",
        "    target_transform=None,  # Z etykietami nic nie robimy, jeśli nie napiszesz tej linijki to też nic się nie stanie\n",
        ")"
      ]
    },
    {
      "cell_type": "markdown",
      "metadata": {
        "id": "csKBz_RqJQHn"
      },
      "source": [
        "## Stworzenie `DataLoader`ów\n",
        "\n",
        "Żeby nie przekazywać do modelu na raz całego zbioru danych dzielimy go na partie tzw. batches. Do konwersji posłuży nam DataLoader, czyli klasa z pytorcha, którą dostosujemy do własnych potrzeb. Do `DataLoadera` musisz przekazać odpowiedni zbiór danych (treningowy lub testowy), parametr `batch_size`=32 (czyli wielkość partii). Przy tego rodzaju projektach najczęściej jest ona ustawiana właśnie na 32.\n",
        "\n",
        "Parametr `shuffle` odpowiada za mieszanie obrazków. Podczas trenowania modelu zależy nam na tym aby sieć nauczyła się rozpoznawać cyfry na podstawie obrazku, a zatem zależy nam na nauczeniu jej **treści obrazka a nie ich kolejności**. Zmiana kolejności obrazków pozwala na uniknięcie problemu uczenia się kolejności obrazków podczas nauki sieci. W trakcie testowania nie ma znaczenia czy obrazki są przemieszane.\n"
      ]
    },
    {
      "cell_type": "code",
      "execution_count": null,
      "metadata": {
        "id": "4Zq6n17RJPpH"
      },
      "outputs": [],
      "source": [
        "from torch.utils.data import DataLoader\n",
        "\n",
        "train_dataloader = DataLoader()\n",
        "\n",
        "# TODO: Na tej samej zasadzie stwórz test_dataloader. Shuffle ustaw na False"
      ]
    },
    {
      "cell_type": "markdown",
      "metadata": {
        "id": "4OsVDCt-KRNv"
      },
      "source": [
        "### Stworzenie `DataLoader`ów - rozwiazanie\n"
      ]
    },
    {
      "cell_type": "code",
      "execution_count": null,
      "metadata": {
        "id": "dRc2ujxwKJcA"
      },
      "outputs": [],
      "source": [
        "from torch.utils.data import DataLoader\n",
        "\n",
        "train_dataloader = DataLoader(train_dataset, batch_size=32, shuffle=True)\n",
        "test_dataloader = DataLoader(test_dataset, batch_size=32, shuffle=False)"
      ]
    },
    {
      "cell_type": "markdown",
      "metadata": {
        "id": "73Y8Z6fNBQFa"
      },
      "source": [
        "### Zaimportowaine odpowiednich skryptów\n",
        "\n",
        "Aby nie zagłębiać się teraz w szczegóły i jak najszybciej przejść do praktyki skorzystamy z wcześniej napisanych skryptów. Teraz tylko po krótce do czego służą poszczegółne moduły:\n",
        "\n",
        "- `model_spawner.py` - pozwala na skonstruowanie modelu (sieci neuronowej).\n",
        "- `engine.py` - zawiera pętlę treningową (możesz tutaj zmienić na przykład ilość epok przez które uczymy model).\n"
      ]
    },
    {
      "cell_type": "code",
      "execution_count": null,
      "metadata": {
        "colab": {
          "base_uri": "https://localhost:8080/"
        },
        "id": "Ecz_0q0bBxHa",
        "outputId": "4ed39b37-2998-4cba-b6df-1827a44cc788"
      },
      "outputs": [],
      "source": [
        "try:\n",
        "  from MNIST.scripts import engine, model_spawner\n",
        "  print('Skrypty zaimportowane poprawnie')\n",
        "except ImportError:\n",
        "  print(f'Brak skryptów, klonuję skrypty z https://github.com/KTFish/MNIST...')\n",
        "  !git clone https://github.com/KTFish/MNIST\n",
        "  from MNIST.scripts import engine, model_spawner"
      ]
    },
    {
      "cell_type": "markdown",
      "metadata": {
        "id": "lJnTB7HRGnbq"
      },
      "source": [
        "### Wybór między procesorem a kartą graficzną\n",
        "\n",
        "Poniższy jednowierszowiec dokonuje wyboru urządzenia do trenowania. Jeśli będzie dostępna karta graficzna (GPU) to zostanie wybrana (jest to lepsza opcja ze względu na szybkość co na jednej z prezentacji tłumacyzł Michał Jodko). W tym miejscu warto przestawić w Colabie `Runtime` wybierając `Change runtime type` a następnie `GPU` w zakładce hardware accelerator. Pozwoli to na korzystanie z karty graficznej w notatniku i przyśpieszy obliczenia.\n",
        "\n",
        "![Screenshot 2023-06-07 110747.png](data:image/png;base64,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)\n"
      ]
    },
    {
      "cell_type": "code",
      "execution_count": null,
      "metadata": {
        "id": "Q2B-uGOeGrVx"
      },
      "outputs": [],
      "source": [
        "device = \"cuda\" if torch.cuda.is_available() else \"cpu\""
      ]
    },
    {
      "cell_type": "markdown",
      "metadata": {
        "id": "hSkqhHUdB2pK"
      },
      "source": [
        "### Inicjalizacja modelu\n",
        "\n",
        "Skrypty są już pobrane, teraz możemy zająć się postawieniem samego modelu za pomocą `model_spawner`. Wykorzystamy prostą sieć CNN (o tym czym jest taka sieć mówiliśmy na spotkaniach koła). Aby zadziałała musisz poprawnie ustawić hiperparametry modelu.\n",
        "\n",
        "- Hiperparametr `input` musi być równy liczbie kanałów (ang. channels) wejściowego obrazka. Nasze obrazki nie są w fromacie RBG (który ma 3 kanały) tylko w formacie czarno białym.\n",
        "- Hiperparametr `output` musi być równy liczbie klas w zadaniu klasyfikacyjnym. Przypominam, że model ma przewidzieć która z liczb od 0 do 9 jest na obrazku. Liczbę klas możesz wpisać ręcznie lub skorzystać z konstrukcji `len(train_dataset.classes)` aby mieć pewność, że podana jest rzeczywista liczba klas.\n",
        "- Hiperparametr `hidden_units` reprezentuje ilość neuronów w warstwie gęstej. Możesz z nim śmiało poeksperymentować! Pamiętaj, że większe wartości mogą sprawić, że model będzie trenował się dłużej a zbyt małe doprowadzą do tego, że nie będzie się uczył.\n"
      ]
    },
    {
      "cell_type": "code",
      "execution_count": null,
      "metadata": {
        "id": "4apzOrs7FFbp"
      },
      "outputs": [],
      "source": [
        "model = model_spawner.VGG(input=,\n",
        "                          output=,\n",
        "                          hidden_units=).to(device)"
      ]
    },
    {
      "cell_type": "markdown",
      "metadata": {
        "id": "7oupjKJAIKrc"
      },
      "source": [
        "### Inicjalizacja modelu - przykładowe rozwiązanie\n"
      ]
    },
    {
      "cell_type": "code",
      "execution_count": null,
      "metadata": {
        "id": "nMJZvkBdIKHU"
      },
      "outputs": [],
      "source": [
        "model = model_spawner.VGG(\n",
        "    input=1,  # mamy tylko jedną warstwę (czarno biały obraz)\n",
        "    output=10,  # 10 klas ponieważ cyfry of 0 do 9 to 10 cyfr\n",
        "    hidden_units=15,\n",
        ").to(device)"
      ]
    },
    {
      "cell_type": "markdown",
      "metadata": {
        "id": "QJ1ncr3RHy9o"
      },
      "source": [
        "### Inicjalizacja optymalizatora\n"
      ]
    },
    {
      "cell_type": "code",
      "execution_count": null,
      "metadata": {
        "id": "Lh7g73r2Hyyh"
      },
      "outputs": [],
      "source": [
        "optimizer = torch.optim.Adam(lr=0.001, params=model.parameters())"
      ]
    },
    {
      "cell_type": "markdown",
      "metadata": {
        "id": "x-Lys6pqH7CY"
      },
      "source": [
        "### Inicjalizacja funkcji straty\n"
      ]
    },
    {
      "cell_type": "code",
      "execution_count": null,
      "metadata": {
        "id": "Tb6bTwnOH7fR"
      },
      "outputs": [],
      "source": [
        "loss_fn = torch.nn.CrossEntropyLoss()"
      ]
    },
    {
      "cell_type": "markdown",
      "metadata": {
        "id": "7gEbYTO7B24i"
      },
      "source": [
        "### Trenowanie\n",
        "\n",
        "Teraz skorzystamy z funkcji `train()` ze skryptu `engine.py`. Aby poprawnie go uruchomić musisz podać odpowiendnie wartości do parametrów. Całe szczęście nazywają się one identycznie.\n"
      ]
    },
    {
      "cell_type": "code",
      "execution_count": null,
      "metadata": {
        "id": "bdA0rgzzIjDu"
      },
      "outputs": [],
      "source": [
        "results = engine.trian(model=,\n",
        "             train_dataloader=,\n",
        "             test_dataloader=,\n",
        "             epochs=, # Poeksperymentuj z ilością epok\n",
        "             device=,\n",
        "             loss_fn=,\n",
        "             optimizer=,)"
      ]
    },
    {
      "cell_type": "markdown",
      "metadata": {
        "id": "F8kEo07TKzmI"
      },
      "source": [
        "### Trenowanie - rowzwiązanie\n"
      ]
    },
    {
      "cell_type": "code",
      "execution_count": null,
      "metadata": {
        "colab": {
          "base_uri": "https://localhost:8080/"
        },
        "id": "UbOk263bK3Rv",
        "outputId": "151dec76-9a48-431a-d204-e98f751f9cf2"
      },
      "outputs": [],
      "source": [
        "results = engine.train(\n",
        "    model=model,\n",
        "    train_dataloader=train_dataloader,\n",
        "    test_dataloader=test_dataloader,\n",
        "    loss_fn=loss_fn,\n",
        "    optimizer=optimizer,\n",
        "    epochs=1,\n",
        "    device=device,\n",
        ")"
      ]
    },
    {
      "cell_type": "markdown",
      "metadata": {
        "id": "-WQwvBgHB-WR"
      },
      "source": [
        "### Sprawdźmy nasze rezultaty!\n",
        "\n",
        "Funkcja `train` ze skryptu treningowego zwraca słownik zawierający listę wyników dla danej metryki w poszczególnych epokach. Warto chwilę przyjrzeć się tym wynikom. Możesz spróbować na przykład stworzyć wykres zależności funkcji straty od epoki.\n"
      ]
    },
    {
      "cell_type": "code",
      "execution_count": null,
      "metadata": {
        "colab": {
          "base_uri": "https://localhost:8080/"
        },
        "id": "HIWZFEGSLl3w",
        "outputId": "621153b2-ff0c-48be-c893-e64aa8ceb190"
      },
      "outputs": [],
      "source": [
        "results"
      ]
    },
    {
      "cell_type": "markdown",
      "metadata": {
        "id": "K9MQNmcvLm1B"
      },
      "source": [
        "Po przetrenowaniu modelu udało nam się osiągnąć zadawalające rezultaty. Dokładność (ang. Accuracy) przekroczyła 97%. Ten notatnik miał na celu pokazać przede wszystkim, że trenowanie modeli może być szybkie i przyjemne. Kolejne wyzwania już niebawem. Będę wdzięczny za wyrażanie waszych uwag, pomysłów lub niepewności na discordzie Czarnej Magii.\n"
      ]
    }
  ],
  "metadata": {
    "colab": {
      "authorship_tag": "ABX9TyOHE+ERpJzH386fCYzgvfWE",
      "collapsed_sections": [
        "fL4O9UzoAxG7"
      ],
      "include_colab_link": true,
      "provenance": []
    },
    "kernelspec": {
      "display_name": "Python 3",
      "name": "python3"
    },
    "language_info": {
      "name": "python",
      "version": "3.11.4"
    }
  },
  "nbformat": 4,
  "nbformat_minor": 0
}
